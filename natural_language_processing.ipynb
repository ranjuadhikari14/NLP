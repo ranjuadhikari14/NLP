{
  "nbformat": 4,
  "nbformat_minor": 0,
  "metadata": {
    "colab": {
      "provenance": [],
      "include_colab_link": true
    },
    "kernelspec": {
      "name": "python3",
      "display_name": "Python 3"
    },
    "language_info": {
      "name": "python"
    }
  },
  "cells": [
    {
      "cell_type": "markdown",
      "metadata": {
        "id": "view-in-github",
        "colab_type": "text"
      },
      "source": [
        "<a href=\"https://colab.research.google.com/github/ranjuadhikari14/NLP/blob/main/natural_language_processing.ipynb\" target=\"_parent\"><img src=\"https://colab.research.google.com/assets/colab-badge.svg\" alt=\"Open In Colab\"/></a>"
      ]
    },
    {
      "cell_type": "code",
      "execution_count": null,
      "metadata": {
        "id": "Kd9Q5_6KHwQs"
      },
      "outputs": [],
      "source": [
        "import os\n",
        "import nltk\n",
        "import nltk.corpus"
      ]
    },
    {
      "cell_type": "code",
      "source": [
        "import nltk\n",
        "nltk.download('all')         # Download everything (big)\n",
        "# OR\n",
        "nltk.download('stopwords')   # Download a specific corpus\n",
        "nltk.download('wordnet')\n"
      ],
      "metadata": {
        "colab": {
          "base_uri": "https://localhost:8080/"
        },
        "id": "eqwXmVN5LjiI",
        "outputId": "c6e0cf7d-f278-493c-a05e-20eed5fe81f1"
      },
      "execution_count": null,
      "outputs": [
        {
          "output_type": "stream",
          "name": "stderr",
          "text": [
            "[nltk_data] Downloading collection 'all'\n",
            "[nltk_data]    | \n",
            "[nltk_data]    | Downloading package abc to /root/nltk_data...\n",
            "[nltk_data]    |   Unzipping corpora/abc.zip.\n",
            "[nltk_data]    | Downloading package alpino to /root/nltk_data...\n",
            "[nltk_data]    |   Unzipping corpora/alpino.zip.\n",
            "[nltk_data]    | Downloading package averaged_perceptron_tagger to\n",
            "[nltk_data]    |     /root/nltk_data...\n",
            "[nltk_data]    |   Unzipping taggers/averaged_perceptron_tagger.zip.\n",
            "[nltk_data]    | Downloading package averaged_perceptron_tagger_eng to\n",
            "[nltk_data]    |     /root/nltk_data...\n",
            "[nltk_data]    |   Unzipping\n",
            "[nltk_data]    |       taggers/averaged_perceptron_tagger_eng.zip.\n",
            "[nltk_data]    | Downloading package averaged_perceptron_tagger_ru to\n",
            "[nltk_data]    |     /root/nltk_data...\n",
            "[nltk_data]    |   Unzipping\n",
            "[nltk_data]    |       taggers/averaged_perceptron_tagger_ru.zip.\n",
            "[nltk_data]    | Downloading package averaged_perceptron_tagger_rus to\n",
            "[nltk_data]    |     /root/nltk_data...\n",
            "[nltk_data]    |   Unzipping\n",
            "[nltk_data]    |       taggers/averaged_perceptron_tagger_rus.zip.\n",
            "[nltk_data]    | Downloading package basque_grammars to\n",
            "[nltk_data]    |     /root/nltk_data...\n",
            "[nltk_data]    |   Unzipping grammars/basque_grammars.zip.\n",
            "[nltk_data]    | Downloading package bcp47 to /root/nltk_data...\n",
            "[nltk_data]    | Downloading package biocreative_ppi to\n",
            "[nltk_data]    |     /root/nltk_data...\n",
            "[nltk_data]    |   Unzipping corpora/biocreative_ppi.zip.\n",
            "[nltk_data]    | Downloading package bllip_wsj_no_aux to\n",
            "[nltk_data]    |     /root/nltk_data...\n",
            "[nltk_data]    |   Unzipping models/bllip_wsj_no_aux.zip.\n",
            "[nltk_data]    | Downloading package book_grammars to\n",
            "[nltk_data]    |     /root/nltk_data...\n",
            "[nltk_data]    |   Unzipping grammars/book_grammars.zip.\n",
            "[nltk_data]    | Downloading package brown to /root/nltk_data...\n",
            "[nltk_data]    |   Unzipping corpora/brown.zip.\n",
            "[nltk_data]    | Downloading package brown_tei to /root/nltk_data...\n",
            "[nltk_data]    |   Unzipping corpora/brown_tei.zip.\n",
            "[nltk_data]    | Downloading package cess_cat to /root/nltk_data...\n",
            "[nltk_data]    |   Unzipping corpora/cess_cat.zip.\n",
            "[nltk_data]    | Downloading package cess_esp to /root/nltk_data...\n",
            "[nltk_data]    |   Unzipping corpora/cess_esp.zip.\n",
            "[nltk_data]    | Downloading package chat80 to /root/nltk_data...\n",
            "[nltk_data]    |   Unzipping corpora/chat80.zip.\n",
            "[nltk_data]    | Downloading package city_database to\n",
            "[nltk_data]    |     /root/nltk_data...\n",
            "[nltk_data]    |   Unzipping corpora/city_database.zip.\n",
            "[nltk_data]    | Downloading package cmudict to /root/nltk_data...\n",
            "[nltk_data]    |   Unzipping corpora/cmudict.zip.\n",
            "[nltk_data]    | Downloading package comparative_sentences to\n",
            "[nltk_data]    |     /root/nltk_data...\n",
            "[nltk_data]    |   Unzipping corpora/comparative_sentences.zip.\n",
            "[nltk_data]    | Downloading package comtrans to /root/nltk_data...\n",
            "[nltk_data]    | Downloading package conll2000 to /root/nltk_data...\n",
            "[nltk_data]    |   Unzipping corpora/conll2000.zip.\n",
            "[nltk_data]    | Downloading package conll2002 to /root/nltk_data...\n",
            "[nltk_data]    |   Unzipping corpora/conll2002.zip.\n",
            "[nltk_data]    | Downloading package conll2007 to /root/nltk_data...\n",
            "[nltk_data]    | Downloading package crubadan to /root/nltk_data...\n",
            "[nltk_data]    |   Unzipping corpora/crubadan.zip.\n",
            "[nltk_data]    | Downloading package dependency_treebank to\n",
            "[nltk_data]    |     /root/nltk_data...\n",
            "[nltk_data]    |   Unzipping corpora/dependency_treebank.zip.\n",
            "[nltk_data]    | Downloading package dolch to /root/nltk_data...\n",
            "[nltk_data]    |   Unzipping corpora/dolch.zip.\n",
            "[nltk_data]    | Downloading package english_wordnet to\n",
            "[nltk_data]    |     /root/nltk_data...\n",
            "[nltk_data]    |   Unzipping corpora/english_wordnet.zip.\n",
            "[nltk_data]    | Downloading package europarl_raw to\n",
            "[nltk_data]    |     /root/nltk_data...\n",
            "[nltk_data]    |   Unzipping corpora/europarl_raw.zip.\n",
            "[nltk_data]    | Downloading package extended_omw to\n",
            "[nltk_data]    |     /root/nltk_data...\n",
            "[nltk_data]    | Downloading package floresta to /root/nltk_data...\n",
            "[nltk_data]    |   Unzipping corpora/floresta.zip.\n",
            "[nltk_data]    | Downloading package framenet_v15 to\n",
            "[nltk_data]    |     /root/nltk_data...\n",
            "[nltk_data]    |   Unzipping corpora/framenet_v15.zip.\n",
            "[nltk_data]    | Downloading package framenet_v17 to\n",
            "[nltk_data]    |     /root/nltk_data...\n",
            "[nltk_data]    |   Unzipping corpora/framenet_v17.zip.\n",
            "[nltk_data]    | Downloading package gazetteers to /root/nltk_data...\n",
            "[nltk_data]    |   Unzipping corpora/gazetteers.zip.\n",
            "[nltk_data]    | Downloading package genesis to /root/nltk_data...\n",
            "[nltk_data]    |   Unzipping corpora/genesis.zip.\n",
            "[nltk_data]    | Downloading package gutenberg to /root/nltk_data...\n",
            "[nltk_data]    |   Unzipping corpora/gutenberg.zip.\n",
            "[nltk_data]    | Downloading package ieer to /root/nltk_data...\n",
            "[nltk_data]    |   Unzipping corpora/ieer.zip.\n",
            "[nltk_data]    | Downloading package inaugural to /root/nltk_data...\n",
            "[nltk_data]    |   Unzipping corpora/inaugural.zip.\n",
            "[nltk_data]    | Downloading package indian to /root/nltk_data...\n",
            "[nltk_data]    |   Unzipping corpora/indian.zip.\n",
            "[nltk_data]    | Downloading package jeita to /root/nltk_data...\n",
            "[nltk_data]    | Downloading package kimmo to /root/nltk_data...\n",
            "[nltk_data]    |   Unzipping corpora/kimmo.zip.\n",
            "[nltk_data]    | Downloading package knbc to /root/nltk_data...\n",
            "[nltk_data]    | Downloading package large_grammars to\n",
            "[nltk_data]    |     /root/nltk_data...\n",
            "[nltk_data]    |   Unzipping grammars/large_grammars.zip.\n",
            "[nltk_data]    | Downloading package lin_thesaurus to\n",
            "[nltk_data]    |     /root/nltk_data...\n",
            "[nltk_data]    |   Unzipping corpora/lin_thesaurus.zip.\n",
            "[nltk_data]    | Downloading package mac_morpho to /root/nltk_data...\n",
            "[nltk_data]    |   Unzipping corpora/mac_morpho.zip.\n",
            "[nltk_data]    | Downloading package machado to /root/nltk_data...\n",
            "[nltk_data]    | Downloading package masc_tagged to /root/nltk_data...\n",
            "[nltk_data]    | Downloading package maxent_ne_chunker to\n",
            "[nltk_data]    |     /root/nltk_data...\n",
            "[nltk_data]    |   Unzipping chunkers/maxent_ne_chunker.zip.\n",
            "[nltk_data]    | Downloading package maxent_ne_chunker_tab to\n",
            "[nltk_data]    |     /root/nltk_data...\n",
            "[nltk_data]    |   Unzipping chunkers/maxent_ne_chunker_tab.zip.\n",
            "[nltk_data]    | Downloading package maxent_treebank_pos_tagger to\n",
            "[nltk_data]    |     /root/nltk_data...\n",
            "[nltk_data]    |   Unzipping taggers/maxent_treebank_pos_tagger.zip.\n",
            "[nltk_data]    | Downloading package maxent_treebank_pos_tagger_tab to\n",
            "[nltk_data]    |     /root/nltk_data...\n",
            "[nltk_data]    |   Unzipping\n",
            "[nltk_data]    |       taggers/maxent_treebank_pos_tagger_tab.zip.\n",
            "[nltk_data]    | Downloading package mock_corpus to /root/nltk_data...\n",
            "[nltk_data]    |   Unzipping corpora/mock_corpus.zip.\n",
            "[nltk_data]    | Downloading package moses_sample to\n",
            "[nltk_data]    |     /root/nltk_data...\n",
            "[nltk_data]    |   Unzipping models/moses_sample.zip.\n",
            "[nltk_data]    | Downloading package movie_reviews to\n",
            "[nltk_data]    |     /root/nltk_data...\n",
            "[nltk_data]    |   Unzipping corpora/movie_reviews.zip.\n",
            "[nltk_data]    | Downloading package mte_teip5 to /root/nltk_data...\n",
            "[nltk_data]    |   Unzipping corpora/mte_teip5.zip.\n",
            "[nltk_data]    | Downloading package mwa_ppdb to /root/nltk_data...\n",
            "[nltk_data]    |   Unzipping misc/mwa_ppdb.zip.\n",
            "[nltk_data]    | Downloading package names to /root/nltk_data...\n",
            "[nltk_data]    |   Unzipping corpora/names.zip.\n",
            "[nltk_data]    | Downloading package nombank.1.0 to /root/nltk_data...\n",
            "[nltk_data]    | Downloading package nonbreaking_prefixes to\n",
            "[nltk_data]    |     /root/nltk_data...\n",
            "[nltk_data]    |   Unzipping corpora/nonbreaking_prefixes.zip.\n",
            "[nltk_data]    | Downloading package nps_chat to /root/nltk_data...\n",
            "[nltk_data]    |   Unzipping corpora/nps_chat.zip.\n",
            "[nltk_data]    | Downloading package omw to /root/nltk_data...\n",
            "[nltk_data]    | Downloading package omw-1.4 to /root/nltk_data...\n",
            "[nltk_data]    | Downloading package opinion_lexicon to\n",
            "[nltk_data]    |     /root/nltk_data...\n",
            "[nltk_data]    |   Unzipping corpora/opinion_lexicon.zip.\n",
            "[nltk_data]    | Downloading package panlex_swadesh to\n",
            "[nltk_data]    |     /root/nltk_data...\n",
            "[nltk_data]    | Downloading package paradigms to /root/nltk_data...\n",
            "[nltk_data]    |   Unzipping corpora/paradigms.zip.\n",
            "[nltk_data]    | Downloading package pe08 to /root/nltk_data...\n",
            "[nltk_data]    |   Unzipping corpora/pe08.zip.\n",
            "[nltk_data]    | Downloading package perluniprops to\n",
            "[nltk_data]    |     /root/nltk_data...\n",
            "[nltk_data]    |   Unzipping misc/perluniprops.zip.\n",
            "[nltk_data]    | Downloading package pil to /root/nltk_data...\n",
            "[nltk_data]    |   Unzipping corpora/pil.zip.\n",
            "[nltk_data]    | Downloading package pl196x to /root/nltk_data...\n",
            "[nltk_data]    |   Unzipping corpora/pl196x.zip.\n",
            "[nltk_data]    | Downloading package porter_test to /root/nltk_data...\n",
            "[nltk_data]    |   Unzipping stemmers/porter_test.zip.\n",
            "[nltk_data]    | Downloading package ppattach to /root/nltk_data...\n",
            "[nltk_data]    |   Unzipping corpora/ppattach.zip.\n",
            "[nltk_data]    | Downloading package problem_reports to\n",
            "[nltk_data]    |     /root/nltk_data...\n",
            "[nltk_data]    |   Unzipping corpora/problem_reports.zip.\n",
            "[nltk_data]    | Downloading package product_reviews_1 to\n",
            "[nltk_data]    |     /root/nltk_data...\n",
            "[nltk_data]    |   Unzipping corpora/product_reviews_1.zip.\n",
            "[nltk_data]    | Downloading package product_reviews_2 to\n",
            "[nltk_data]    |     /root/nltk_data...\n",
            "[nltk_data]    |   Unzipping corpora/product_reviews_2.zip.\n",
            "[nltk_data]    | Downloading package propbank to /root/nltk_data...\n",
            "[nltk_data]    | Downloading package pros_cons to /root/nltk_data...\n",
            "[nltk_data]    |   Unzipping corpora/pros_cons.zip.\n",
            "[nltk_data]    | Downloading package ptb to /root/nltk_data...\n",
            "[nltk_data]    |   Unzipping corpora/ptb.zip.\n",
            "[nltk_data]    | Downloading package punkt to /root/nltk_data...\n",
            "[nltk_data]    |   Unzipping tokenizers/punkt.zip.\n",
            "[nltk_data]    | Downloading package punkt_tab to /root/nltk_data...\n",
            "[nltk_data]    |   Unzipping tokenizers/punkt_tab.zip.\n",
            "[nltk_data]    | Downloading package qc to /root/nltk_data...\n",
            "[nltk_data]    |   Unzipping corpora/qc.zip.\n",
            "[nltk_data]    | Downloading package reuters to /root/nltk_data...\n",
            "[nltk_data]    | Downloading package rslp to /root/nltk_data...\n",
            "[nltk_data]    |   Unzipping stemmers/rslp.zip.\n",
            "[nltk_data]    | Downloading package rte to /root/nltk_data...\n",
            "[nltk_data]    |   Unzipping corpora/rte.zip.\n",
            "[nltk_data]    | Downloading package sample_grammars to\n",
            "[nltk_data]    |     /root/nltk_data...\n",
            "[nltk_data]    |   Unzipping grammars/sample_grammars.zip.\n",
            "[nltk_data]    | Downloading package semcor to /root/nltk_data...\n",
            "[nltk_data]    | Downloading package senseval to /root/nltk_data...\n",
            "[nltk_data]    |   Unzipping corpora/senseval.zip.\n",
            "[nltk_data]    | Downloading package sentence_polarity to\n",
            "[nltk_data]    |     /root/nltk_data...\n",
            "[nltk_data]    |   Unzipping corpora/sentence_polarity.zip.\n",
            "[nltk_data]    | Downloading package sentiwordnet to\n",
            "[nltk_data]    |     /root/nltk_data...\n",
            "[nltk_data]    |   Unzipping corpora/sentiwordnet.zip.\n",
            "[nltk_data]    | Downloading package shakespeare to /root/nltk_data...\n",
            "[nltk_data]    |   Unzipping corpora/shakespeare.zip.\n",
            "[nltk_data]    | Downloading package sinica_treebank to\n",
            "[nltk_data]    |     /root/nltk_data...\n",
            "[nltk_data]    |   Unzipping corpora/sinica_treebank.zip.\n",
            "[nltk_data]    | Downloading package smultron to /root/nltk_data...\n",
            "[nltk_data]    |   Unzipping corpora/smultron.zip.\n",
            "[nltk_data]    | Downloading package snowball_data to\n",
            "[nltk_data]    |     /root/nltk_data...\n",
            "[nltk_data]    | Downloading package spanish_grammars to\n",
            "[nltk_data]    |     /root/nltk_data...\n",
            "[nltk_data]    |   Unzipping grammars/spanish_grammars.zip.\n",
            "[nltk_data]    | Downloading package state_union to /root/nltk_data...\n",
            "[nltk_data]    |   Unzipping corpora/state_union.zip.\n",
            "[nltk_data]    | Downloading package stopwords to /root/nltk_data...\n",
            "[nltk_data]    |   Unzipping corpora/stopwords.zip.\n",
            "[nltk_data]    | Downloading package subjectivity to\n",
            "[nltk_data]    |     /root/nltk_data...\n",
            "[nltk_data]    |   Unzipping corpora/subjectivity.zip.\n",
            "[nltk_data]    | Downloading package swadesh to /root/nltk_data...\n",
            "[nltk_data]    |   Unzipping corpora/swadesh.zip.\n",
            "[nltk_data]    | Downloading package switchboard to /root/nltk_data...\n",
            "[nltk_data]    |   Unzipping corpora/switchboard.zip.\n",
            "[nltk_data]    | Downloading package tagsets to /root/nltk_data...\n",
            "[nltk_data]    |   Unzipping help/tagsets.zip.\n",
            "[nltk_data]    | Downloading package tagsets_json to\n",
            "[nltk_data]    |     /root/nltk_data...\n",
            "[nltk_data]    |   Unzipping help/tagsets_json.zip.\n",
            "[nltk_data]    | Downloading package timit to /root/nltk_data...\n",
            "[nltk_data]    |   Unzipping corpora/timit.zip.\n",
            "[nltk_data]    | Downloading package toolbox to /root/nltk_data...\n",
            "[nltk_data]    |   Unzipping corpora/toolbox.zip.\n",
            "[nltk_data]    | Downloading package treebank to /root/nltk_data...\n",
            "[nltk_data]    |   Unzipping corpora/treebank.zip.\n",
            "[nltk_data]    | Downloading package twitter_samples to\n",
            "[nltk_data]    |     /root/nltk_data...\n",
            "[nltk_data]    |   Unzipping corpora/twitter_samples.zip.\n",
            "[nltk_data]    | Downloading package udhr to /root/nltk_data...\n",
            "[nltk_data]    |   Unzipping corpora/udhr.zip.\n",
            "[nltk_data]    | Downloading package udhr2 to /root/nltk_data...\n",
            "[nltk_data]    |   Unzipping corpora/udhr2.zip.\n",
            "[nltk_data]    | Downloading package unicode_samples to\n",
            "[nltk_data]    |     /root/nltk_data...\n",
            "[nltk_data]    |   Unzipping corpora/unicode_samples.zip.\n",
            "[nltk_data]    | Downloading package universal_tagset to\n",
            "[nltk_data]    |     /root/nltk_data...\n",
            "[nltk_data]    |   Unzipping taggers/universal_tagset.zip.\n",
            "[nltk_data]    | Downloading package universal_treebanks_v20 to\n",
            "[nltk_data]    |     /root/nltk_data...\n",
            "[nltk_data]    | Downloading package vader_lexicon to\n",
            "[nltk_data]    |     /root/nltk_data...\n",
            "[nltk_data]    | Downloading package verbnet to /root/nltk_data...\n",
            "[nltk_data]    |   Unzipping corpora/verbnet.zip.\n",
            "[nltk_data]    | Downloading package verbnet3 to /root/nltk_data...\n",
            "[nltk_data]    |   Unzipping corpora/verbnet3.zip.\n",
            "[nltk_data]    | Downloading package webtext to /root/nltk_data...\n",
            "[nltk_data]    |   Unzipping corpora/webtext.zip.\n",
            "[nltk_data]    | Downloading package wmt15_eval to /root/nltk_data...\n",
            "[nltk_data]    |   Unzipping models/wmt15_eval.zip.\n",
            "[nltk_data]    | Downloading package word2vec_sample to\n",
            "[nltk_data]    |     /root/nltk_data...\n",
            "[nltk_data]    |   Unzipping models/word2vec_sample.zip.\n",
            "[nltk_data]    | Downloading package wordnet to /root/nltk_data...\n",
            "[nltk_data]    | Downloading package wordnet2021 to /root/nltk_data...\n",
            "[nltk_data]    | Downloading package wordnet2022 to /root/nltk_data...\n",
            "[nltk_data]    |   Unzipping corpora/wordnet2022.zip.\n",
            "[nltk_data]    | Downloading package wordnet31 to /root/nltk_data...\n",
            "[nltk_data]    | Downloading package wordnet_ic to /root/nltk_data...\n",
            "[nltk_data]    |   Unzipping corpora/wordnet_ic.zip.\n",
            "[nltk_data]    | Downloading package words to /root/nltk_data...\n",
            "[nltk_data]    |   Unzipping corpora/words.zip.\n",
            "[nltk_data]    | Downloading package ycoe to /root/nltk_data...\n",
            "[nltk_data]    |   Unzipping corpora/ycoe.zip.\n",
            "[nltk_data]    | \n",
            "[nltk_data]  Done downloading collection all\n",
            "[nltk_data] Downloading package stopwords to /root/nltk_data...\n",
            "[nltk_data]   Package stopwords is already up-to-date!\n",
            "[nltk_data] Downloading package wordnet to /root/nltk_data...\n",
            "[nltk_data]   Package wordnet is already up-to-date!\n"
          ]
        },
        {
          "output_type": "execute_result",
          "data": {
            "text/plain": [
              "True"
            ]
          },
          "metadata": {},
          "execution_count": 2
        }
      ]
    },
    {
      "cell_type": "code",
      "source": [
        "# Get the base NLTK data path and manually go into 'corpora'\n",
        "nltk_path = nltk.data.path[0]  # First path where NLTK looks for data\n",
        "corpora_path = os.path.join(nltk_path, 'corpora')\n",
        "\n",
        "# List available corpora\n",
        "print(os.listdir(corpora_path))\n"
      ],
      "metadata": {
        "colab": {
          "base_uri": "https://localhost:8080/"
        },
        "id": "OFfq2XXgKvSm",
        "outputId": "a2bc8b5a-f939-43b9-9b70-e096bd8aa6e9"
      },
      "execution_count": null,
      "outputs": [
        {
          "output_type": "stream",
          "name": "stdout",
          "text": [
            "['comparative_sentences', 'biocreative_ppi', 'shakespeare', 'paradigms.zip', 'udhr', 'wordnet_ic.zip', 'lin_thesaurus', 'indian', 'smultron', 'mock_corpus.zip', 'verbnet3.zip', 'ppattach.zip', 'panlex_swadesh.zip', 'ieer.zip', 'mte_teip5', 'product_reviews_1.zip', 'framenet_v15', 'webtext', 'pl196x.zip', 'rte.zip', 'nps_chat', 'cmudict', 'udhr.zip', 'toolbox.zip', 'floresta', 'mte_teip5.zip', 'pil.zip', 'english_wordnet', 'stopwords.zip', 'product_reviews_2', 'universal_treebanks_v20.zip', 'swadesh.zip', 'subjectivity', 'gutenberg', 'wordnet2022', 'genesis.zip', 'udhr2', 'alpino.zip', 'inaugural.zip', 'udhr2.zip', 'words', 'opinion_lexicon', 'verbnet', 'inaugural', 'conll2000.zip', 'chat80', 'europarl_raw', 'indian.zip', 'machado.zip', 'names.zip', 'stopwords', 'toolbox', 'shakespeare.zip', 'pe08.zip', 'propbank.zip', 'masc_tagged.zip', 'wordnet2021.zip', 'ycoe', 'alpino', 'crubadan', 'conll2000', 'abc', 'sentiwordnet', 'brown_tei', 'pe08', 'sinica_treebank', 'city_database', 'product_reviews_2.zip', 'smultron.zip', 'names', 'europarl_raw.zip', 'mac_morpho', 'ycoe.zip', 'sinica_treebank.zip', 'problem_reports.zip', 'kimmo', 'framenet_v17.zip', 'unicode_samples', 'conll2002', 'omw.zip', 'sentiwordnet.zip', 'movie_reviews.zip', 'ptb.zip', 'verbnet.zip', 'sentence_polarity', 'jeita.zip', 'ptb', 'twitter_samples.zip', 'nps_chat.zip', 'city_database.zip', 'twitter_samples', 'qc', 'timit', 'wordnet2022.zip', 'dependency_treebank', 'problem_reports', 'sentence_polarity.zip', 'abc.zip', 'crubadan.zip', 'english_wordnet.zip', 'swadesh', 'biocreative_ppi.zip', 'switchboard.zip', 'genesis', 'gutenberg.zip', 'mac_morpho.zip', 'ieer', 'cess_esp', 'semcor.zip', 'treebank.zip', 'bcp47.zip', 'movie_reviews', 'webtext.zip', 'floresta.zip', 'mock_corpus', 'pil', 'knbc.zip', 'omw-1.4.zip', 'comparative_sentences.zip', 'qc.zip', 'paradigms', 'pl196x', 'framenet_v17', 'brown.zip', 'wordnet31.zip', 'pros_cons.zip', 'senseval.zip', 'timit.zip', 'dolch.zip', 'brown', 'reuters.zip', 'lin_thesaurus.zip', 'ppattach', 'cess_cat.zip', 'comtrans.zip', 'cess_cat', 'nonbreaking_prefixes.zip', 'verbnet3', 'conll2002.zip', 'wordnet_ic', 'opinion_lexicon.zip', 'state_union.zip', 'wordnet.zip', 'gazetteers', 'cess_esp.zip', 'dolch', 'conll2007.zip', 'chat80.zip', 'unicode_samples.zip', 'cmudict.zip', 'gazetteers.zip', 'words.zip', 'switchboard', 'extended_omw.zip', 'kimmo.zip', 'dependency_treebank.zip', 'rte', 'nombank.1.0.zip', 'framenet_v15.zip', 'nonbreaking_prefixes', 'state_union', 'pros_cons', 'brown_tei.zip', 'subjectivity.zip', 'senseval', 'treebank', 'product_reviews_1']\n"
          ]
        }
      ]
    },
    {
      "cell_type": "code",
      "source": [
        "from nltk.corpus import brown\n",
        "brown.words()"
      ],
      "metadata": {
        "colab": {
          "base_uri": "https://localhost:8080/"
        },
        "id": "y6uFquC9K7aN",
        "outputId": "e5526305-950c-41e1-f404-03d8631b96c3"
      },
      "execution_count": null,
      "outputs": [
        {
          "output_type": "execute_result",
          "data": {
            "text/plain": [
              "['The', 'Fulton', 'County', 'Grand', 'Jury', 'said', ...]"
            ]
          },
          "metadata": {},
          "execution_count": 4
        }
      ]
    },
    {
      "cell_type": "code",
      "source": [
        "nltk.corpus.gutenberg.fileids()"
      ],
      "metadata": {
        "colab": {
          "base_uri": "https://localhost:8080/"
        },
        "id": "Sg0X_1H9M7Mj",
        "outputId": "e6eb3ce2-aed7-4cc8-b0e9-4590e30bc2e7"
      },
      "execution_count": null,
      "outputs": [
        {
          "output_type": "execute_result",
          "data": {
            "text/plain": [
              "['austen-emma.txt',\n",
              " 'austen-persuasion.txt',\n",
              " 'austen-sense.txt',\n",
              " 'bible-kjv.txt',\n",
              " 'blake-poems.txt',\n",
              " 'bryant-stories.txt',\n",
              " 'burgess-busterbrown.txt',\n",
              " 'carroll-alice.txt',\n",
              " 'chesterton-ball.txt',\n",
              " 'chesterton-brown.txt',\n",
              " 'chesterton-thursday.txt',\n",
              " 'edgeworth-parents.txt',\n",
              " 'melville-moby_dick.txt',\n",
              " 'milton-paradise.txt',\n",
              " 'shakespeare-caesar.txt',\n",
              " 'shakespeare-hamlet.txt',\n",
              " 'shakespeare-macbeth.txt',\n",
              " 'whitman-leaves.txt']"
            ]
          },
          "metadata": {},
          "execution_count": 5
        }
      ]
    },
    {
      "cell_type": "code",
      "source": [
        "hamlet=nltk.corpus.gutenberg.words('shakespeare-hamlet.txt')\n",
        "hamlet"
      ],
      "metadata": {
        "colab": {
          "base_uri": "https://localhost:8080/"
        },
        "id": "BOeQalATNFZy",
        "outputId": "c626c87e-ff9a-4c11-d58a-618d1cf78875"
      },
      "execution_count": null,
      "outputs": [
        {
          "output_type": "execute_result",
          "data": {
            "text/plain": [
              "['[', 'The', 'Tragedie', 'of', 'Hamlet', 'by', ...]"
            ]
          },
          "metadata": {},
          "execution_count": 6
        }
      ]
    },
    {
      "cell_type": "code",
      "source": [
        "for word in hamlet[:500]:\n",
        "  print(word,sep= ' ',end=' ')"
      ],
      "metadata": {
        "colab": {
          "base_uri": "https://localhost:8080/"
        },
        "id": "I8khdUfTXWIA",
        "outputId": "09aa0815-18ce-4c04-8578-3a4811ab32df"
      },
      "execution_count": null,
      "outputs": [
        {
          "output_type": "stream",
          "name": "stdout",
          "text": [
            "[ The Tragedie of Hamlet by William Shakespeare 1599 ] Actus Primus . Scoena Prima . Enter Barnardo and Francisco two Centinels . Barnardo . Who ' s there ? Fran . Nay answer me : Stand & vnfold your selfe Bar . Long liue the King Fran . Barnardo ? Bar . He Fran . You come most carefully vpon your houre Bar . ' Tis now strook twelue , get thee to bed Francisco Fran . For this releefe much thankes : ' Tis bitter cold , And I am sicke at heart Barn . Haue you had quiet Guard ? Fran . Not a Mouse stirring Barn . Well , goodnight . If you do meet Horatio and Marcellus , the Riuals of my Watch , bid them make hast . Enter Horatio and Marcellus . Fran . I thinke I heare them . Stand : who ' s there ? Hor . Friends to this ground Mar . And Leige - men to the Dane Fran . Giue you good night Mar . O farwel honest Soldier , who hath relieu ' d you ? Fra . Barnardo ha ' s my place : giue you goodnight . Exit Fran . Mar . Holla Barnardo Bar . Say , what is Horatio there ? Hor . A peece of him Bar . Welcome Horatio , welcome good Marcellus Mar . What , ha ' s this thing appear ' d againe to night Bar . I haue seene nothing Mar . Horatio saies , ' tis but our Fantasie , And will not let beleefe take hold of him Touching this dreaded sight , twice seene of vs , Therefore I haue intreated him along With vs , to watch the minutes of this Night , That if againe this Apparition come , He may approue our eyes , and speake to it Hor . Tush , tush , ' twill not appeare Bar . Sit downe a - while , And let vs once againe assaile your eares , That are so fortified against our Story , What we two Nights haue seene Hor . Well , sit we downe , And let vs heare Barnardo speake of this Barn . Last night of all , When yond same Starre that ' s Westward from the Pole Had made his course t ' illume that part of Heauen Where now it burnes , Marcellus and my selfe , The Bell then beating one Mar . Peace , breake thee of : Enter the Ghost . Looke where it comes againe Barn . In the same figure , like the King that ' s dead Mar . Thou art a Scholler ; speake to it Horatio Barn . Lookes it not like the King ? Marke it Horatio Hora . Most like : It harrowes me with fear & wonder Barn . It would be spoke too Mar . Question it Horatio Hor . What art "
          ]
        }
      ]
    },
    {
      "cell_type": "code",
      "source": [
        "AI =\"\"\"Artificial intelligence (AI) is the capability of computational systems to perform tasks typically associated with human intelligence, such as learning, reasoning, problem-solving, perception, and decision-making. It is a field of research in computer science that develops and studies methods and software that enable machines to perceive their environment and use learning and intelligence to take actions that maximize their chances of achieving defined goals.\"\"\""
      ],
      "metadata": {
        "id": "iMu_Qht-XmOK"
      },
      "execution_count": null,
      "outputs": []
    },
    {
      "cell_type": "code",
      "source": [
        "type(AI)"
      ],
      "metadata": {
        "colab": {
          "base_uri": "https://localhost:8080/"
        },
        "id": "1iL4i0dxYDiR",
        "outputId": "02e743d2-0ad1-4bc5-f821-0ab8eeb494e9"
      },
      "execution_count": null,
      "outputs": [
        {
          "output_type": "execute_result",
          "data": {
            "text/plain": [
              "str"
            ]
          },
          "metadata": {},
          "execution_count": 9
        }
      ]
    },
    {
      "cell_type": "code",
      "source": [
        "from nltk.tokenize import word_tokenize"
      ],
      "metadata": {
        "id": "44EFoZF4YOG7"
      },
      "execution_count": null,
      "outputs": []
    },
    {
      "cell_type": "code",
      "source": [
        "AI_tokens = word_tokenize(AI)\n",
        "AI_tokens"
      ],
      "metadata": {
        "colab": {
          "base_uri": "https://localhost:8080/"
        },
        "id": "8dsNNFxmYVOY",
        "outputId": "41b91ca4-3000-4cd6-a973-415a88786500"
      },
      "execution_count": null,
      "outputs": [
        {
          "output_type": "execute_result",
          "data": {
            "text/plain": [
              "['Artificial',\n",
              " 'intelligence',\n",
              " '(',\n",
              " 'AI',\n",
              " ')',\n",
              " 'is',\n",
              " 'the',\n",
              " 'capability',\n",
              " 'of',\n",
              " 'computational',\n",
              " 'systems',\n",
              " 'to',\n",
              " 'perform',\n",
              " 'tasks',\n",
              " 'typically',\n",
              " 'associated',\n",
              " 'with',\n",
              " 'human',\n",
              " 'intelligence',\n",
              " ',',\n",
              " 'such',\n",
              " 'as',\n",
              " 'learning',\n",
              " ',',\n",
              " 'reasoning',\n",
              " ',',\n",
              " 'problem-solving',\n",
              " ',',\n",
              " 'perception',\n",
              " ',',\n",
              " 'and',\n",
              " 'decision-making',\n",
              " '.',\n",
              " 'It',\n",
              " 'is',\n",
              " 'a',\n",
              " 'field',\n",
              " 'of',\n",
              " 'research',\n",
              " 'in',\n",
              " 'computer',\n",
              " 'science',\n",
              " 'that',\n",
              " 'develops',\n",
              " 'and',\n",
              " 'studies',\n",
              " 'methods',\n",
              " 'and',\n",
              " 'software',\n",
              " 'that',\n",
              " 'enable',\n",
              " 'machines',\n",
              " 'to',\n",
              " 'perceive',\n",
              " 'their',\n",
              " 'environment',\n",
              " 'and',\n",
              " 'use',\n",
              " 'learning',\n",
              " 'and',\n",
              " 'intelligence',\n",
              " 'to',\n",
              " 'take',\n",
              " 'actions',\n",
              " 'that',\n",
              " 'maximize',\n",
              " 'their',\n",
              " 'chances',\n",
              " 'of',\n",
              " 'achieving',\n",
              " 'defined',\n",
              " 'goals',\n",
              " '.']"
            ]
          },
          "metadata": {},
          "execution_count": 11
        }
      ]
    },
    {
      "cell_type": "code",
      "source": [
        "len(AI_tokens)"
      ],
      "metadata": {
        "colab": {
          "base_uri": "https://localhost:8080/"
        },
        "id": "nsLhHxxHYfre",
        "outputId": "3d90868e-c961-4bcb-e34f-0464ce141171"
      },
      "execution_count": null,
      "outputs": [
        {
          "output_type": "execute_result",
          "data": {
            "text/plain": [
              "73"
            ]
          },
          "metadata": {},
          "execution_count": 12
        }
      ]
    },
    {
      "cell_type": "code",
      "source": [
        "from nltk.probability import FreqDist\n",
        "fdist = FreqDist()"
      ],
      "metadata": {
        "id": "CIqZp3MPYlID"
      },
      "execution_count": null,
      "outputs": []
    },
    {
      "cell_type": "code",
      "source": [
        "for word in AI_tokens:\n",
        "  fdist[word.lower()]+=1\n",
        "fdist"
      ],
      "metadata": {
        "colab": {
          "base_uri": "https://localhost:8080/"
        },
        "id": "nqMhp8ZaYwbB",
        "outputId": "0b8f03bc-e6e8-403b-eff4-1de5be2f9c56"
      },
      "execution_count": null,
      "outputs": [
        {
          "output_type": "execute_result",
          "data": {
            "text/plain": [
              "FreqDist({',': 5, 'and': 5, 'intelligence': 3, 'of': 3, 'to': 3, 'that': 3, 'is': 2, 'learning': 2, '.': 2, 'their': 2, ...})"
            ]
          },
          "metadata": {},
          "execution_count": 14
        }
      ]
    },
    {
      "cell_type": "code",
      "source": [
        "fdist['artificial']"
      ],
      "metadata": {
        "colab": {
          "base_uri": "https://localhost:8080/"
        },
        "id": "2xHS3qBdZEAI",
        "outputId": "11233c56-c781-42ea-8e4c-64bd0404519f"
      },
      "execution_count": null,
      "outputs": [
        {
          "output_type": "execute_result",
          "data": {
            "text/plain": [
              "1"
            ]
          },
          "metadata": {},
          "execution_count": 15
        }
      ]
    },
    {
      "cell_type": "code",
      "source": [
        "fdist['learning']"
      ],
      "metadata": {
        "colab": {
          "base_uri": "https://localhost:8080/"
        },
        "id": "ZbcxoQJ6ZXMj",
        "outputId": "2b57bf18-80c9-4d45-ef15-343a46ed6919"
      },
      "execution_count": null,
      "outputs": [
        {
          "output_type": "execute_result",
          "data": {
            "text/plain": [
              "2"
            ]
          },
          "metadata": {},
          "execution_count": 16
        }
      ]
    },
    {
      "cell_type": "code",
      "source": [
        "len(fdist)"
      ],
      "metadata": {
        "colab": {
          "base_uri": "https://localhost:8080/"
        },
        "id": "OsPtg05oZgUY",
        "outputId": "7741524e-3404-4e66-9ca8-f7c21990bffd"
      },
      "execution_count": null,
      "outputs": [
        {
          "output_type": "execute_result",
          "data": {
            "text/plain": [
              "53"
            ]
          },
          "metadata": {},
          "execution_count": 17
        }
      ]
    },
    {
      "cell_type": "code",
      "source": [
        "fdist_top10 = fdist.most_common(10)\n",
        "fdist_top10"
      ],
      "metadata": {
        "colab": {
          "base_uri": "https://localhost:8080/"
        },
        "id": "qnc8lNuUZkCJ",
        "outputId": "5ef07d47-7bef-4c0f-dad6-04ad1de8d2ed"
      },
      "execution_count": null,
      "outputs": [
        {
          "output_type": "execute_result",
          "data": {
            "text/plain": [
              "[(',', 5),\n",
              " ('and', 5),\n",
              " ('intelligence', 3),\n",
              " ('of', 3),\n",
              " ('to', 3),\n",
              " ('that', 3),\n",
              " ('is', 2),\n",
              " ('learning', 2),\n",
              " ('.', 2),\n",
              " ('their', 2)]"
            ]
          },
          "metadata": {},
          "execution_count": 18
        }
      ]
    },
    {
      "cell_type": "code",
      "source": [
        "from nltk.tokenize import blankline_tokenize\n",
        "AI_blank=blankline_tokenize(AI)\n",
        "len(AI_blank)"
      ],
      "metadata": {
        "colab": {
          "base_uri": "https://localhost:8080/"
        },
        "id": "MHHV9w_fZ0PG",
        "outputId": "93093289-e1b7-455a-d42b-030a6f4898a4"
      },
      "execution_count": null,
      "outputs": [
        {
          "output_type": "execute_result",
          "data": {
            "text/plain": [
              "1"
            ]
          },
          "metadata": {},
          "execution_count": 19
        }
      ]
    },
    {
      "cell_type": "code",
      "source": [
        "AI_blank[0]"
      ],
      "metadata": {
        "colab": {
          "base_uri": "https://localhost:8080/",
          "height": 105
        },
        "id": "ooILNQlYaPlz",
        "outputId": "87431612-dc86-4aa9-89e0-8a18196c3911"
      },
      "execution_count": null,
      "outputs": [
        {
          "output_type": "execute_result",
          "data": {
            "text/plain": [
              "'Artificial intelligence (AI) is the capability of computational systems to perform tasks typically associated with human intelligence, such as learning, reasoning, problem-solving, perception, and decision-making. It is a field of research in computer science that develops and studies methods and software that enable machines to perceive their environment and use learning and intelligence to take actions that maximize their chances of achieving defined goals.'"
            ],
            "application/vnd.google.colaboratory.intrinsic+json": {
              "type": "string"
            }
          },
          "metadata": {},
          "execution_count": 20
        }
      ]
    },
    {
      "cell_type": "code",
      "source": [
        "from nltk.util import bigrams,trigrams,ngrams"
      ],
      "metadata": {
        "id": "sGYzvheeafCj"
      },
      "execution_count": null,
      "outputs": []
    },
    {
      "cell_type": "code",
      "source": [
        "string =\"This is about one of my favorite places. This place would be the place I’d always go to whenever I had the free time. Even if I didn’t, I’d take the project I was working on and finish it there. No one ever went to the place or did I tell them where I was going so I was all alone in complete solitude.\"\n",
        "quotes_tokens = nltk.word_tokenize(string)\n",
        "quotes_tokens"
      ],
      "metadata": {
        "colab": {
          "base_uri": "https://localhost:8080/"
        },
        "id": "Z8r6rF1ja48i",
        "outputId": "f5af872c-19e9-4655-f9ef-25874db96e0a"
      },
      "execution_count": null,
      "outputs": [
        {
          "output_type": "execute_result",
          "data": {
            "text/plain": [
              "['This',\n",
              " 'is',\n",
              " 'about',\n",
              " 'one',\n",
              " 'of',\n",
              " 'my',\n",
              " 'favorite',\n",
              " 'places',\n",
              " '.',\n",
              " 'This',\n",
              " 'place',\n",
              " 'would',\n",
              " 'be',\n",
              " 'the',\n",
              " 'place',\n",
              " 'I',\n",
              " '’',\n",
              " 'd',\n",
              " 'always',\n",
              " 'go',\n",
              " 'to',\n",
              " 'whenever',\n",
              " 'I',\n",
              " 'had',\n",
              " 'the',\n",
              " 'free',\n",
              " 'time',\n",
              " '.',\n",
              " 'Even',\n",
              " 'if',\n",
              " 'I',\n",
              " 'didn',\n",
              " '’',\n",
              " 't',\n",
              " ',',\n",
              " 'I',\n",
              " '’',\n",
              " 'd',\n",
              " 'take',\n",
              " 'the',\n",
              " 'project',\n",
              " 'I',\n",
              " 'was',\n",
              " 'working',\n",
              " 'on',\n",
              " 'and',\n",
              " 'finish',\n",
              " 'it',\n",
              " 'there',\n",
              " '.',\n",
              " 'No',\n",
              " 'one',\n",
              " 'ever',\n",
              " 'went',\n",
              " 'to',\n",
              " 'the',\n",
              " 'place',\n",
              " 'or',\n",
              " 'did',\n",
              " 'I',\n",
              " 'tell',\n",
              " 'them',\n",
              " 'where',\n",
              " 'I',\n",
              " 'was',\n",
              " 'going',\n",
              " 'so',\n",
              " 'I',\n",
              " 'was',\n",
              " 'all',\n",
              " 'alone',\n",
              " 'in',\n",
              " 'complete',\n",
              " 'solitude',\n",
              " '.']"
            ]
          },
          "metadata": {},
          "execution_count": 22
        }
      ]
    },
    {
      "cell_type": "markdown",
      "source": [
        "Bigrams"
      ],
      "metadata": {
        "id": "dx1UtIQDblAN"
      }
    },
    {
      "cell_type": "code",
      "source": [
        "quotes_bigrams= list(nltk.bigrams(quotes_tokens))\n",
        "quotes_bigrams"
      ],
      "metadata": {
        "colab": {
          "base_uri": "https://localhost:8080/"
        },
        "id": "p7-_b5QFbZPo",
        "outputId": "ee1c3664-2170-4a81-ec8f-df4a1774828b"
      },
      "execution_count": null,
      "outputs": [
        {
          "output_type": "execute_result",
          "data": {
            "text/plain": [
              "[('This', 'is'),\n",
              " ('is', 'about'),\n",
              " ('about', 'one'),\n",
              " ('one', 'of'),\n",
              " ('of', 'my'),\n",
              " ('my', 'favorite'),\n",
              " ('favorite', 'places'),\n",
              " ('places', '.'),\n",
              " ('.', 'This'),\n",
              " ('This', 'place'),\n",
              " ('place', 'would'),\n",
              " ('would', 'be'),\n",
              " ('be', 'the'),\n",
              " ('the', 'place'),\n",
              " ('place', 'I'),\n",
              " ('I', '’'),\n",
              " ('’', 'd'),\n",
              " ('d', 'always'),\n",
              " ('always', 'go'),\n",
              " ('go', 'to'),\n",
              " ('to', 'whenever'),\n",
              " ('whenever', 'I'),\n",
              " ('I', 'had'),\n",
              " ('had', 'the'),\n",
              " ('the', 'free'),\n",
              " ('free', 'time'),\n",
              " ('time', '.'),\n",
              " ('.', 'Even'),\n",
              " ('Even', 'if'),\n",
              " ('if', 'I'),\n",
              " ('I', 'didn'),\n",
              " ('didn', '’'),\n",
              " ('’', 't'),\n",
              " ('t', ','),\n",
              " (',', 'I'),\n",
              " ('I', '’'),\n",
              " ('’', 'd'),\n",
              " ('d', 'take'),\n",
              " ('take', 'the'),\n",
              " ('the', 'project'),\n",
              " ('project', 'I'),\n",
              " ('I', 'was'),\n",
              " ('was', 'working'),\n",
              " ('working', 'on'),\n",
              " ('on', 'and'),\n",
              " ('and', 'finish'),\n",
              " ('finish', 'it'),\n",
              " ('it', 'there'),\n",
              " ('there', '.'),\n",
              " ('.', 'No'),\n",
              " ('No', 'one'),\n",
              " ('one', 'ever'),\n",
              " ('ever', 'went'),\n",
              " ('went', 'to'),\n",
              " ('to', 'the'),\n",
              " ('the', 'place'),\n",
              " ('place', 'or'),\n",
              " ('or', 'did'),\n",
              " ('did', 'I'),\n",
              " ('I', 'tell'),\n",
              " ('tell', 'them'),\n",
              " ('them', 'where'),\n",
              " ('where', 'I'),\n",
              " ('I', 'was'),\n",
              " ('was', 'going'),\n",
              " ('going', 'so'),\n",
              " ('so', 'I'),\n",
              " ('I', 'was'),\n",
              " ('was', 'all'),\n",
              " ('all', 'alone'),\n",
              " ('alone', 'in'),\n",
              " ('in', 'complete'),\n",
              " ('complete', 'solitude'),\n",
              " ('solitude', '.')]"
            ]
          },
          "metadata": {},
          "execution_count": 23
        }
      ]
    },
    {
      "cell_type": "markdown",
      "source": [
        "Trigrams"
      ],
      "metadata": {
        "id": "ytjJMg_7b6IA"
      }
    },
    {
      "cell_type": "code",
      "source": [
        "quotes_trigrams = list(nltk.trigrams(quotes_tokens))\n",
        "quotes_trigrams"
      ],
      "metadata": {
        "colab": {
          "base_uri": "https://localhost:8080/"
        },
        "id": "1hBVgWivb2QY",
        "outputId": "f861c673-fa67-45e2-84e4-500d4d87e008"
      },
      "execution_count": null,
      "outputs": [
        {
          "output_type": "execute_result",
          "data": {
            "text/plain": [
              "[('This', 'is', 'about'),\n",
              " ('is', 'about', 'one'),\n",
              " ('about', 'one', 'of'),\n",
              " ('one', 'of', 'my'),\n",
              " ('of', 'my', 'favorite'),\n",
              " ('my', 'favorite', 'places'),\n",
              " ('favorite', 'places', '.'),\n",
              " ('places', '.', 'This'),\n",
              " ('.', 'This', 'place'),\n",
              " ('This', 'place', 'would'),\n",
              " ('place', 'would', 'be'),\n",
              " ('would', 'be', 'the'),\n",
              " ('be', 'the', 'place'),\n",
              " ('the', 'place', 'I'),\n",
              " ('place', 'I', '’'),\n",
              " ('I', '’', 'd'),\n",
              " ('’', 'd', 'always'),\n",
              " ('d', 'always', 'go'),\n",
              " ('always', 'go', 'to'),\n",
              " ('go', 'to', 'whenever'),\n",
              " ('to', 'whenever', 'I'),\n",
              " ('whenever', 'I', 'had'),\n",
              " ('I', 'had', 'the'),\n",
              " ('had', 'the', 'free'),\n",
              " ('the', 'free', 'time'),\n",
              " ('free', 'time', '.'),\n",
              " ('time', '.', 'Even'),\n",
              " ('.', 'Even', 'if'),\n",
              " ('Even', 'if', 'I'),\n",
              " ('if', 'I', 'didn'),\n",
              " ('I', 'didn', '’'),\n",
              " ('didn', '’', 't'),\n",
              " ('’', 't', ','),\n",
              " ('t', ',', 'I'),\n",
              " (',', 'I', '’'),\n",
              " ('I', '’', 'd'),\n",
              " ('’', 'd', 'take'),\n",
              " ('d', 'take', 'the'),\n",
              " ('take', 'the', 'project'),\n",
              " ('the', 'project', 'I'),\n",
              " ('project', 'I', 'was'),\n",
              " ('I', 'was', 'working'),\n",
              " ('was', 'working', 'on'),\n",
              " ('working', 'on', 'and'),\n",
              " ('on', 'and', 'finish'),\n",
              " ('and', 'finish', 'it'),\n",
              " ('finish', 'it', 'there'),\n",
              " ('it', 'there', '.'),\n",
              " ('there', '.', 'No'),\n",
              " ('.', 'No', 'one'),\n",
              " ('No', 'one', 'ever'),\n",
              " ('one', 'ever', 'went'),\n",
              " ('ever', 'went', 'to'),\n",
              " ('went', 'to', 'the'),\n",
              " ('to', 'the', 'place'),\n",
              " ('the', 'place', 'or'),\n",
              " ('place', 'or', 'did'),\n",
              " ('or', 'did', 'I'),\n",
              " ('did', 'I', 'tell'),\n",
              " ('I', 'tell', 'them'),\n",
              " ('tell', 'them', 'where'),\n",
              " ('them', 'where', 'I'),\n",
              " ('where', 'I', 'was'),\n",
              " ('I', 'was', 'going'),\n",
              " ('was', 'going', 'so'),\n",
              " ('going', 'so', 'I'),\n",
              " ('so', 'I', 'was'),\n",
              " ('I', 'was', 'all'),\n",
              " ('was', 'all', 'alone'),\n",
              " ('all', 'alone', 'in'),\n",
              " ('alone', 'in', 'complete'),\n",
              " ('in', 'complete', 'solitude'),\n",
              " ('complete', 'solitude', '.')]"
            ]
          },
          "metadata": {},
          "execution_count": 24
        }
      ]
    },
    {
      "cell_type": "markdown",
      "source": [
        "ngrams"
      ],
      "metadata": {
        "id": "pUpjpjFYcWr2"
      }
    },
    {
      "cell_type": "markdown",
      "source": [],
      "metadata": {
        "id": "aXF47UTEcUXh"
      }
    },
    {
      "cell_type": "code",
      "source": [
        "quotes_ngrams = list(nltk.ngrams(quotes_tokens, 7))\n",
        "quotes_ngrams"
      ],
      "metadata": {
        "colab": {
          "base_uri": "https://localhost:8080/"
        },
        "id": "p9FVdMVocOXf",
        "outputId": "e9171a06-0e05-494c-9491-380d104211e9"
      },
      "execution_count": null,
      "outputs": [
        {
          "output_type": "execute_result",
          "data": {
            "text/plain": [
              "[('This', 'is', 'about', 'one', 'of', 'my', 'favorite'),\n",
              " ('is', 'about', 'one', 'of', 'my', 'favorite', 'places'),\n",
              " ('about', 'one', 'of', 'my', 'favorite', 'places', '.'),\n",
              " ('one', 'of', 'my', 'favorite', 'places', '.', 'This'),\n",
              " ('of', 'my', 'favorite', 'places', '.', 'This', 'place'),\n",
              " ('my', 'favorite', 'places', '.', 'This', 'place', 'would'),\n",
              " ('favorite', 'places', '.', 'This', 'place', 'would', 'be'),\n",
              " ('places', '.', 'This', 'place', 'would', 'be', 'the'),\n",
              " ('.', 'This', 'place', 'would', 'be', 'the', 'place'),\n",
              " ('This', 'place', 'would', 'be', 'the', 'place', 'I'),\n",
              " ('place', 'would', 'be', 'the', 'place', 'I', '’'),\n",
              " ('would', 'be', 'the', 'place', 'I', '’', 'd'),\n",
              " ('be', 'the', 'place', 'I', '’', 'd', 'always'),\n",
              " ('the', 'place', 'I', '’', 'd', 'always', 'go'),\n",
              " ('place', 'I', '’', 'd', 'always', 'go', 'to'),\n",
              " ('I', '’', 'd', 'always', 'go', 'to', 'whenever'),\n",
              " ('’', 'd', 'always', 'go', 'to', 'whenever', 'I'),\n",
              " ('d', 'always', 'go', 'to', 'whenever', 'I', 'had'),\n",
              " ('always', 'go', 'to', 'whenever', 'I', 'had', 'the'),\n",
              " ('go', 'to', 'whenever', 'I', 'had', 'the', 'free'),\n",
              " ('to', 'whenever', 'I', 'had', 'the', 'free', 'time'),\n",
              " ('whenever', 'I', 'had', 'the', 'free', 'time', '.'),\n",
              " ('I', 'had', 'the', 'free', 'time', '.', 'Even'),\n",
              " ('had', 'the', 'free', 'time', '.', 'Even', 'if'),\n",
              " ('the', 'free', 'time', '.', 'Even', 'if', 'I'),\n",
              " ('free', 'time', '.', 'Even', 'if', 'I', 'didn'),\n",
              " ('time', '.', 'Even', 'if', 'I', 'didn', '’'),\n",
              " ('.', 'Even', 'if', 'I', 'didn', '’', 't'),\n",
              " ('Even', 'if', 'I', 'didn', '’', 't', ','),\n",
              " ('if', 'I', 'didn', '’', 't', ',', 'I'),\n",
              " ('I', 'didn', '’', 't', ',', 'I', '’'),\n",
              " ('didn', '’', 't', ',', 'I', '’', 'd'),\n",
              " ('’', 't', ',', 'I', '’', 'd', 'take'),\n",
              " ('t', ',', 'I', '’', 'd', 'take', 'the'),\n",
              " (',', 'I', '’', 'd', 'take', 'the', 'project'),\n",
              " ('I', '’', 'd', 'take', 'the', 'project', 'I'),\n",
              " ('’', 'd', 'take', 'the', 'project', 'I', 'was'),\n",
              " ('d', 'take', 'the', 'project', 'I', 'was', 'working'),\n",
              " ('take', 'the', 'project', 'I', 'was', 'working', 'on'),\n",
              " ('the', 'project', 'I', 'was', 'working', 'on', 'and'),\n",
              " ('project', 'I', 'was', 'working', 'on', 'and', 'finish'),\n",
              " ('I', 'was', 'working', 'on', 'and', 'finish', 'it'),\n",
              " ('was', 'working', 'on', 'and', 'finish', 'it', 'there'),\n",
              " ('working', 'on', 'and', 'finish', 'it', 'there', '.'),\n",
              " ('on', 'and', 'finish', 'it', 'there', '.', 'No'),\n",
              " ('and', 'finish', 'it', 'there', '.', 'No', 'one'),\n",
              " ('finish', 'it', 'there', '.', 'No', 'one', 'ever'),\n",
              " ('it', 'there', '.', 'No', 'one', 'ever', 'went'),\n",
              " ('there', '.', 'No', 'one', 'ever', 'went', 'to'),\n",
              " ('.', 'No', 'one', 'ever', 'went', 'to', 'the'),\n",
              " ('No', 'one', 'ever', 'went', 'to', 'the', 'place'),\n",
              " ('one', 'ever', 'went', 'to', 'the', 'place', 'or'),\n",
              " ('ever', 'went', 'to', 'the', 'place', 'or', 'did'),\n",
              " ('went', 'to', 'the', 'place', 'or', 'did', 'I'),\n",
              " ('to', 'the', 'place', 'or', 'did', 'I', 'tell'),\n",
              " ('the', 'place', 'or', 'did', 'I', 'tell', 'them'),\n",
              " ('place', 'or', 'did', 'I', 'tell', 'them', 'where'),\n",
              " ('or', 'did', 'I', 'tell', 'them', 'where', 'I'),\n",
              " ('did', 'I', 'tell', 'them', 'where', 'I', 'was'),\n",
              " ('I', 'tell', 'them', 'where', 'I', 'was', 'going'),\n",
              " ('tell', 'them', 'where', 'I', 'was', 'going', 'so'),\n",
              " ('them', 'where', 'I', 'was', 'going', 'so', 'I'),\n",
              " ('where', 'I', 'was', 'going', 'so', 'I', 'was'),\n",
              " ('I', 'was', 'going', 'so', 'I', 'was', 'all'),\n",
              " ('was', 'going', 'so', 'I', 'was', 'all', 'alone'),\n",
              " ('going', 'so', 'I', 'was', 'all', 'alone', 'in'),\n",
              " ('so', 'I', 'was', 'all', 'alone', 'in', 'complete'),\n",
              " ('I', 'was', 'all', 'alone', 'in', 'complete', 'solitude'),\n",
              " ('was', 'all', 'alone', 'in', 'complete', 'solitude', '.')]"
            ]
          },
          "metadata": {},
          "execution_count": 25
        }
      ]
    },
    {
      "cell_type": "markdown",
      "source": [
        "Stemming"
      ],
      "metadata": {
        "id": "VVUxbU2mc03D"
      }
    },
    {
      "cell_type": "code",
      "source": [
        "from nltk.stem import PorterStemmer\n",
        "pst=PorterStemmer()"
      ],
      "metadata": {
        "id": "qvkwmvPecq06"
      },
      "execution_count": null,
      "outputs": []
    },
    {
      "cell_type": "code",
      "source": [
        "pst.stem('going')"
      ],
      "metadata": {
        "colab": {
          "base_uri": "https://localhost:8080/",
          "height": 35
        },
        "id": "TKz02shvdQGO",
        "outputId": "6dc02cc0-71fa-46b4-aa23-910b90563a9e"
      },
      "execution_count": null,
      "outputs": [
        {
          "output_type": "execute_result",
          "data": {
            "text/plain": [
              "'go'"
            ],
            "application/vnd.google.colaboratory.intrinsic+json": {
              "type": "string"
            }
          },
          "metadata": {},
          "execution_count": 27
        }
      ]
    },
    {
      "cell_type": "code",
      "source": [
        "words_to_stem=['give','giving','given','gave']\n",
        "for words in words_to_stem:\n",
        "  print(words+ \":\" +pst.stem(words))"
      ],
      "metadata": {
        "colab": {
          "base_uri": "https://localhost:8080/"
        },
        "id": "83He92oPdUjE",
        "outputId": "56250879-5f48-4ef0-a5fb-f17e09b62aee"
      },
      "execution_count": null,
      "outputs": [
        {
          "output_type": "stream",
          "name": "stdout",
          "text": [
            "give:give\n",
            "giving:give\n",
            "given:given\n",
            "gave:gave\n"
          ]
        }
      ]
    },
    {
      "cell_type": "code",
      "source": [
        "from nltk.stem import LancasterStemmer\n",
        "lst=LancasterStemmer()\n",
        "for words in words_to_stem:\n",
        "  print(words+ \":\" +lst.stem(words))"
      ],
      "metadata": {
        "colab": {
          "base_uri": "https://localhost:8080/"
        },
        "id": "pyavbqkQeHbS",
        "outputId": "367cba1a-38ce-40b3-d669-8b3a873126b6"
      },
      "execution_count": null,
      "outputs": [
        {
          "output_type": "stream",
          "name": "stdout",
          "text": [
            "give:giv\n",
            "giving:giv\n",
            "given:giv\n",
            "gave:gav\n"
          ]
        }
      ]
    },
    {
      "cell_type": "code",
      "source": [
        "from nltk.stem import SnowballStemmer\n",
        "sbst=SnowballStemmer('english')"
      ],
      "metadata": {
        "id": "qPyEdR7eeoV1"
      },
      "execution_count": null,
      "outputs": []
    },
    {
      "cell_type": "code",
      "source": [
        "for words in words_to_stem:\n",
        "  print(words+ \":\" +sbst.stem(words))"
      ],
      "metadata": {
        "colab": {
          "base_uri": "https://localhost:8080/"
        },
        "id": "pvWXxObMe1pp",
        "outputId": "26b5a3be-4310-4259-d3fe-e8439cefedd0"
      },
      "execution_count": null,
      "outputs": [
        {
          "output_type": "stream",
          "name": "stdout",
          "text": [
            "give:give\n",
            "giving:give\n",
            "given:given\n",
            "gave:gave\n"
          ]
        }
      ]
    },
    {
      "cell_type": "markdown",
      "source": [
        "Lemmatization"
      ],
      "metadata": {
        "id": "OU53WKOafMXL"
      }
    },
    {
      "cell_type": "code",
      "source": [
        "from nltk.stem import wordnet\n",
        "from nltk.stem import WordNetLemmatizer\n",
        "word_len=WordNetLemmatizer()"
      ],
      "metadata": {
        "id": "JPDUeEUsfEeM"
      },
      "execution_count": null,
      "outputs": []
    },
    {
      "cell_type": "code",
      "source": [
        "word_len.lemmatize('corpora')"
      ],
      "metadata": {
        "colab": {
          "base_uri": "https://localhost:8080/",
          "height": 35
        },
        "id": "rOhXlU36fuvo",
        "outputId": "6f4205e1-878b-45b2-b5ac-f85e9b08f7c2"
      },
      "execution_count": null,
      "outputs": [
        {
          "output_type": "execute_result",
          "data": {
            "text/plain": [
              "'corpus'"
            ],
            "application/vnd.google.colaboratory.intrinsic+json": {
              "type": "string"
            }
          },
          "metadata": {},
          "execution_count": 33
        }
      ]
    },
    {
      "cell_type": "code",
      "source": [
        "for words in words_to_stem:\n",
        "  print(words+ \":\" + word_len.lemmatize(words))"
      ],
      "metadata": {
        "colab": {
          "base_uri": "https://localhost:8080/"
        },
        "id": "YHRcC0Yjf4pA",
        "outputId": "2aebde8d-f47a-4a8c-8e67-d8a4e206b850"
      },
      "execution_count": null,
      "outputs": [
        {
          "output_type": "stream",
          "name": "stdout",
          "text": [
            "give:give\n",
            "giving:giving\n",
            "given:given\n",
            "gave:gave\n"
          ]
        }
      ]
    },
    {
      "cell_type": "markdown",
      "source": [
        "Stop Words"
      ],
      "metadata": {
        "id": "xTDS_8G9gN7c"
      }
    },
    {
      "cell_type": "code",
      "source": [
        "from nltk.corpus import stopwords"
      ],
      "metadata": {
        "id": "zZLBf4eTgKiu"
      },
      "execution_count": null,
      "outputs": []
    },
    {
      "cell_type": "code",
      "source": [
        "stopwords.words('english')"
      ],
      "metadata": {
        "colab": {
          "base_uri": "https://localhost:8080/"
        },
        "id": "QUqQil4Agb2m",
        "outputId": "9630fdd7-92cc-437d-e157-20fb586159bc"
      },
      "execution_count": null,
      "outputs": [
        {
          "output_type": "execute_result",
          "data": {
            "text/plain": [
              "['a',\n",
              " 'about',\n",
              " 'above',\n",
              " 'after',\n",
              " 'again',\n",
              " 'against',\n",
              " 'ain',\n",
              " 'all',\n",
              " 'am',\n",
              " 'an',\n",
              " 'and',\n",
              " 'any',\n",
              " 'are',\n",
              " 'aren',\n",
              " \"aren't\",\n",
              " 'as',\n",
              " 'at',\n",
              " 'be',\n",
              " 'because',\n",
              " 'been',\n",
              " 'before',\n",
              " 'being',\n",
              " 'below',\n",
              " 'between',\n",
              " 'both',\n",
              " 'but',\n",
              " 'by',\n",
              " 'can',\n",
              " 'couldn',\n",
              " \"couldn't\",\n",
              " 'd',\n",
              " 'did',\n",
              " 'didn',\n",
              " \"didn't\",\n",
              " 'do',\n",
              " 'does',\n",
              " 'doesn',\n",
              " \"doesn't\",\n",
              " 'doing',\n",
              " 'don',\n",
              " \"don't\",\n",
              " 'down',\n",
              " 'during',\n",
              " 'each',\n",
              " 'few',\n",
              " 'for',\n",
              " 'from',\n",
              " 'further',\n",
              " 'had',\n",
              " 'hadn',\n",
              " \"hadn't\",\n",
              " 'has',\n",
              " 'hasn',\n",
              " \"hasn't\",\n",
              " 'have',\n",
              " 'haven',\n",
              " \"haven't\",\n",
              " 'having',\n",
              " 'he',\n",
              " \"he'd\",\n",
              " \"he'll\",\n",
              " 'her',\n",
              " 'here',\n",
              " 'hers',\n",
              " 'herself',\n",
              " \"he's\",\n",
              " 'him',\n",
              " 'himself',\n",
              " 'his',\n",
              " 'how',\n",
              " 'i',\n",
              " \"i'd\",\n",
              " 'if',\n",
              " \"i'll\",\n",
              " \"i'm\",\n",
              " 'in',\n",
              " 'into',\n",
              " 'is',\n",
              " 'isn',\n",
              " \"isn't\",\n",
              " 'it',\n",
              " \"it'd\",\n",
              " \"it'll\",\n",
              " \"it's\",\n",
              " 'its',\n",
              " 'itself',\n",
              " \"i've\",\n",
              " 'just',\n",
              " 'll',\n",
              " 'm',\n",
              " 'ma',\n",
              " 'me',\n",
              " 'mightn',\n",
              " \"mightn't\",\n",
              " 'more',\n",
              " 'most',\n",
              " 'mustn',\n",
              " \"mustn't\",\n",
              " 'my',\n",
              " 'myself',\n",
              " 'needn',\n",
              " \"needn't\",\n",
              " 'no',\n",
              " 'nor',\n",
              " 'not',\n",
              " 'now',\n",
              " 'o',\n",
              " 'of',\n",
              " 'off',\n",
              " 'on',\n",
              " 'once',\n",
              " 'only',\n",
              " 'or',\n",
              " 'other',\n",
              " 'our',\n",
              " 'ours',\n",
              " 'ourselves',\n",
              " 'out',\n",
              " 'over',\n",
              " 'own',\n",
              " 're',\n",
              " 's',\n",
              " 'same',\n",
              " 'shan',\n",
              " \"shan't\",\n",
              " 'she',\n",
              " \"she'd\",\n",
              " \"she'll\",\n",
              " \"she's\",\n",
              " 'should',\n",
              " 'shouldn',\n",
              " \"shouldn't\",\n",
              " \"should've\",\n",
              " 'so',\n",
              " 'some',\n",
              " 'such',\n",
              " 't',\n",
              " 'than',\n",
              " 'that',\n",
              " \"that'll\",\n",
              " 'the',\n",
              " 'their',\n",
              " 'theirs',\n",
              " 'them',\n",
              " 'themselves',\n",
              " 'then',\n",
              " 'there',\n",
              " 'these',\n",
              " 'they',\n",
              " \"they'd\",\n",
              " \"they'll\",\n",
              " \"they're\",\n",
              " \"they've\",\n",
              " 'this',\n",
              " 'those',\n",
              " 'through',\n",
              " 'to',\n",
              " 'too',\n",
              " 'under',\n",
              " 'until',\n",
              " 'up',\n",
              " 've',\n",
              " 'very',\n",
              " 'was',\n",
              " 'wasn',\n",
              " \"wasn't\",\n",
              " 'we',\n",
              " \"we'd\",\n",
              " \"we'll\",\n",
              " \"we're\",\n",
              " 'were',\n",
              " 'weren',\n",
              " \"weren't\",\n",
              " \"we've\",\n",
              " 'what',\n",
              " 'when',\n",
              " 'where',\n",
              " 'which',\n",
              " 'while',\n",
              " 'who',\n",
              " 'whom',\n",
              " 'why',\n",
              " 'will',\n",
              " 'with',\n",
              " 'won',\n",
              " \"won't\",\n",
              " 'wouldn',\n",
              " \"wouldn't\",\n",
              " 'y',\n",
              " 'you',\n",
              " \"you'd\",\n",
              " \"you'll\",\n",
              " 'your',\n",
              " \"you're\",\n",
              " 'yours',\n",
              " 'yourself',\n",
              " 'yourselves',\n",
              " \"you've\"]"
            ]
          },
          "metadata": {},
          "execution_count": 36
        }
      ]
    },
    {
      "cell_type": "code",
      "source": [
        "len(stopwords.words('english'))"
      ],
      "metadata": {
        "colab": {
          "base_uri": "https://localhost:8080/"
        },
        "id": "q_IVZTi8ggZd",
        "outputId": "65f85da7-3b85-49dc-b433-ea3e1bcdaa70"
      },
      "execution_count": null,
      "outputs": [
        {
          "output_type": "execute_result",
          "data": {
            "text/plain": [
              "198"
            ]
          },
          "metadata": {},
          "execution_count": 37
        }
      ]
    },
    {
      "cell_type": "code",
      "source": [
        "fdist_top10"
      ],
      "metadata": {
        "colab": {
          "base_uri": "https://localhost:8080/"
        },
        "id": "tjIjAzTTgkkK",
        "outputId": "9bfcd38d-c553-40f7-bce5-d4f4f10c67e2"
      },
      "execution_count": null,
      "outputs": [
        {
          "output_type": "execute_result",
          "data": {
            "text/plain": [
              "[(',', 5),\n",
              " ('and', 5),\n",
              " ('intelligence', 3),\n",
              " ('of', 3),\n",
              " ('to', 3),\n",
              " ('that', 3),\n",
              " ('is', 2),\n",
              " ('learning', 2),\n",
              " ('.', 2),\n",
              " ('their', 2)]"
            ]
          },
          "metadata": {},
          "execution_count": 38
        }
      ]
    },
    {
      "cell_type": "code",
      "source": [
        "AI_tokens"
      ],
      "metadata": {
        "colab": {
          "base_uri": "https://localhost:8080/"
        },
        "id": "xDYCrFd6iiUe",
        "outputId": "79925bf8-2cfc-4f8e-9f92-cde1db07a93c"
      },
      "execution_count": null,
      "outputs": [
        {
          "output_type": "execute_result",
          "data": {
            "text/plain": [
              "['Artificial',\n",
              " 'intelligence',\n",
              " '(',\n",
              " 'AI',\n",
              " ')',\n",
              " 'is',\n",
              " 'the',\n",
              " 'capability',\n",
              " 'of',\n",
              " 'computational',\n",
              " 'systems',\n",
              " 'to',\n",
              " 'perform',\n",
              " 'tasks',\n",
              " 'typically',\n",
              " 'associated',\n",
              " 'with',\n",
              " 'human',\n",
              " 'intelligence',\n",
              " ',',\n",
              " 'such',\n",
              " 'as',\n",
              " 'learning',\n",
              " ',',\n",
              " 'reasoning',\n",
              " ',',\n",
              " 'problem-solving',\n",
              " ',',\n",
              " 'perception',\n",
              " ',',\n",
              " 'and',\n",
              " 'decision-making',\n",
              " '.',\n",
              " 'It',\n",
              " 'is',\n",
              " 'a',\n",
              " 'field',\n",
              " 'of',\n",
              " 'research',\n",
              " 'in',\n",
              " 'computer',\n",
              " 'science',\n",
              " 'that',\n",
              " 'develops',\n",
              " 'and',\n",
              " 'studies',\n",
              " 'methods',\n",
              " 'and',\n",
              " 'software',\n",
              " 'that',\n",
              " 'enable',\n",
              " 'machines',\n",
              " 'to',\n",
              " 'perceive',\n",
              " 'their',\n",
              " 'environment',\n",
              " 'and',\n",
              " 'use',\n",
              " 'learning',\n",
              " 'and',\n",
              " 'intelligence',\n",
              " 'to',\n",
              " 'take',\n",
              " 'actions',\n",
              " 'that',\n",
              " 'maximize',\n",
              " 'their',\n",
              " 'chances',\n",
              " 'of',\n",
              " 'achieving',\n",
              " 'defined',\n",
              " 'goals',\n",
              " '.']"
            ]
          },
          "metadata": {},
          "execution_count": 39
        }
      ]
    },
    {
      "cell_type": "code",
      "source": [
        "import re\n",
        "punctuation = re.compile(r\"[^\\w\\s]\")"
      ],
      "metadata": {
        "id": "zak13Hf8gukZ"
      },
      "execution_count": null,
      "outputs": []
    },
    {
      "cell_type": "code",
      "source": [
        "post_punctuation = []\n",
        "\n",
        "for word in AI_tokens:\n",
        "    cleaned = punctuation.sub(\"\", word)  # clean the word\n",
        "    if cleaned:  # check if not empty\n",
        "        post_punctuation.append(f\"'{cleaned}'\")"
      ],
      "metadata": {
        "id": "DIQmdd89hH7T"
      },
      "execution_count": null,
      "outputs": []
    },
    {
      "cell_type": "code",
      "source": [
        "post_punctuation"
      ],
      "metadata": {
        "colab": {
          "base_uri": "https://localhost:8080/"
        },
        "id": "OYdx9_WihdzB",
        "outputId": "6169b876-77c4-410a-c58f-7691c5090c84"
      },
      "execution_count": null,
      "outputs": [
        {
          "output_type": "execute_result",
          "data": {
            "text/plain": [
              "[\"'Artificial'\",\n",
              " \"'intelligence'\",\n",
              " \"'AI'\",\n",
              " \"'is'\",\n",
              " \"'the'\",\n",
              " \"'capability'\",\n",
              " \"'of'\",\n",
              " \"'computational'\",\n",
              " \"'systems'\",\n",
              " \"'to'\",\n",
              " \"'perform'\",\n",
              " \"'tasks'\",\n",
              " \"'typically'\",\n",
              " \"'associated'\",\n",
              " \"'with'\",\n",
              " \"'human'\",\n",
              " \"'intelligence'\",\n",
              " \"'such'\",\n",
              " \"'as'\",\n",
              " \"'learning'\",\n",
              " \"'reasoning'\",\n",
              " \"'problemsolving'\",\n",
              " \"'perception'\",\n",
              " \"'and'\",\n",
              " \"'decisionmaking'\",\n",
              " \"'It'\",\n",
              " \"'is'\",\n",
              " \"'a'\",\n",
              " \"'field'\",\n",
              " \"'of'\",\n",
              " \"'research'\",\n",
              " \"'in'\",\n",
              " \"'computer'\",\n",
              " \"'science'\",\n",
              " \"'that'\",\n",
              " \"'develops'\",\n",
              " \"'and'\",\n",
              " \"'studies'\",\n",
              " \"'methods'\",\n",
              " \"'and'\",\n",
              " \"'software'\",\n",
              " \"'that'\",\n",
              " \"'enable'\",\n",
              " \"'machines'\",\n",
              " \"'to'\",\n",
              " \"'perceive'\",\n",
              " \"'their'\",\n",
              " \"'environment'\",\n",
              " \"'and'\",\n",
              " \"'use'\",\n",
              " \"'learning'\",\n",
              " \"'and'\",\n",
              " \"'intelligence'\",\n",
              " \"'to'\",\n",
              " \"'take'\",\n",
              " \"'actions'\",\n",
              " \"'that'\",\n",
              " \"'maximize'\",\n",
              " \"'their'\",\n",
              " \"'chances'\",\n",
              " \"'of'\",\n",
              " \"'achieving'\",\n",
              " \"'defined'\",\n",
              " \"'goals'\"]"
            ]
          },
          "metadata": {},
          "execution_count": 42
        }
      ]
    },
    {
      "cell_type": "markdown",
      "source": [
        "POS :Parts of Speech"
      ],
      "metadata": {
        "id": "Dp2KLTPGjolM"
      }
    },
    {
      "cell_type": "code",
      "source": [
        "from nltk.tokenize import word_tokenize"
      ],
      "metadata": {
        "id": "LmmRDkXQlBqo"
      },
      "execution_count": null,
      "outputs": []
    },
    {
      "cell_type": "code",
      "source": [
        "sent =\"Nepal is a beautiful country full of Beautiful  natural scenerio\"\n",
        "sent_tokens= word_tokenize(sent)"
      ],
      "metadata": {
        "id": "EmjDPt_Lhh2h"
      },
      "execution_count": null,
      "outputs": []
    },
    {
      "cell_type": "code",
      "source": [
        "for token in sent_tokens:\n",
        "    print(nltk.pos_tag([token]))"
      ],
      "metadata": {
        "colab": {
          "base_uri": "https://localhost:8080/"
        },
        "id": "-IXCJTHskkIe",
        "outputId": "56845584-c45d-4d46-8d0c-4af08796f93a"
      },
      "execution_count": null,
      "outputs": [
        {
          "output_type": "stream",
          "name": "stdout",
          "text": [
            "[('Nepal', 'NN')]\n",
            "[('is', 'VBZ')]\n",
            "[('a', 'DT')]\n",
            "[('beautiful', 'NN')]\n",
            "[('country', 'NN')]\n",
            "[('full', 'JJ')]\n",
            "[('of', 'IN')]\n",
            "[('Beautiful', 'JJ')]\n",
            "[('natural', 'JJ')]\n",
            "[('scenerio', 'NN')]\n"
          ]
        }
      ]
    },
    {
      "cell_type": "markdown",
      "source": [
        "Named Entity Recognition"
      ],
      "metadata": {
        "id": "mJ0LH0ldQVn3"
      }
    },
    {
      "cell_type": "code",
      "source": [
        "from nltk import ne_chunk"
      ],
      "metadata": {
        "id": "k_vkDrVwlS4b"
      },
      "execution_count": null,
      "outputs": []
    },
    {
      "cell_type": "code",
      "source": [
        "NE_sent = 'Rabi Lamichanne is the chairperson of the SwotantraParty'\n"
      ],
      "metadata": {
        "id": "pUQUkrYRRTV2"
      },
      "execution_count": null,
      "outputs": []
    },
    {
      "cell_type": "code",
      "source": [
        "NE_tokens = word_tokenize(NE_sent)\n",
        "NE_tags = nltk.pos_tag(NE_tokens)"
      ],
      "metadata": {
        "id": "GfJdcUOkSHfM"
      },
      "execution_count": null,
      "outputs": []
    },
    {
      "cell_type": "code",
      "source": [
        "NE_NER = ne_chunk(NE_tags)\n",
        "print(NE_NER)"
      ],
      "metadata": {
        "colab": {
          "base_uri": "https://localhost:8080/"
        },
        "id": "luWA5px5SdVb",
        "outputId": "f262e6e5-0ad0-40ef-8c05-2e5ead9cb399"
      },
      "execution_count": null,
      "outputs": [
        {
          "output_type": "stream",
          "name": "stdout",
          "text": [
            "(S\n",
            "  (PERSON Rabi/NNP)\n",
            "  (ORGANIZATION Lamichanne/NNP)\n",
            "  is/VBZ\n",
            "  the/DT\n",
            "  chairperson/NN\n",
            "  of/IN\n",
            "  the/DT\n",
            "  (ORGANIZATION SwotantraParty/NNP))\n"
          ]
        }
      ]
    },
    {
      "cell_type": "code",
      "source": [],
      "metadata": {
        "id": "NMPY8tcdSmYE"
      },
      "execution_count": null,
      "outputs": []
    },
    {
      "cell_type": "markdown",
      "source": [
        "Chunking"
      ],
      "metadata": {
        "id": "81MP8WsqTrl6"
      }
    },
    {
      "cell_type": "code",
      "source": [
        "new= 'The big cat ate the little mouse who was after fresh cheese'\n",
        "new_tokens = nltk.pos_tag(word_tokenize(new))\n",
        "new_tokens"
      ],
      "metadata": {
        "colab": {
          "base_uri": "https://localhost:8080/"
        },
        "id": "7WJzzWe0Ts-s",
        "outputId": "63c528b0-2f17-4d7c-c8e7-2f97bc779540"
      },
      "execution_count": null,
      "outputs": [
        {
          "output_type": "execute_result",
          "data": {
            "text/plain": [
              "[('The', 'DT'),\n",
              " ('big', 'JJ'),\n",
              " ('cat', 'NN'),\n",
              " ('ate', 'VBD'),\n",
              " ('the', 'DT'),\n",
              " ('little', 'JJ'),\n",
              " ('mouse', 'NN'),\n",
              " ('who', 'WP'),\n",
              " ('was', 'VBD'),\n",
              " ('after', 'IN'),\n",
              " ('fresh', 'JJ'),\n",
              " ('cheese', 'NN')]"
            ]
          },
          "metadata": {},
          "execution_count": 51
        }
      ]
    },
    {
      "cell_type": "code",
      "source": [
        "grammar_np = r\"NP : {<DT>?<JJ>*<NN>}\""
      ],
      "metadata": {
        "id": "myjyFCtTT_wt"
      },
      "execution_count": null,
      "outputs": []
    },
    {
      "cell_type": "code",
      "source": [
        "chunk_parser = nltk.RegexpParser(grammar_np)"
      ],
      "metadata": {
        "id": "9Dx9m_vrUPCc"
      },
      "execution_count": null,
      "outputs": []
    },
    {
      "cell_type": "code",
      "source": [
        "chunk_result = chunk_parser.parse(new_tokens)\n",
        "chunk_result"
      ],
      "metadata": {
        "colab": {
          "base_uri": "https://localhost:8080/",
          "height": 384
        },
        "id": "h8q6Lpb2UVRq",
        "outputId": "566b5e7f-0575-43ac-e8e9-a7ec7311a089"
      },
      "execution_count": null,
      "outputs": [
        {
          "output_type": "error",
          "ename": "ModuleNotFoundError",
          "evalue": "No module named 'svgling'",
          "traceback": [
            "\u001b[0;31m---------------------------------------------------------------------------\u001b[0m",
            "\u001b[0;31mModuleNotFoundError\u001b[0m                       Traceback (most recent call last)",
            "\u001b[0;32m/usr/local/lib/python3.11/dist-packages/IPython/core/formatters.py\u001b[0m in \u001b[0;36m__call__\u001b[0;34m(self, obj)\u001b[0m\n\u001b[1;32m    343\u001b[0m             \u001b[0mmethod\u001b[0m \u001b[0;34m=\u001b[0m \u001b[0mget_real_method\u001b[0m\u001b[0;34m(\u001b[0m\u001b[0mobj\u001b[0m\u001b[0;34m,\u001b[0m \u001b[0mself\u001b[0m\u001b[0;34m.\u001b[0m\u001b[0mprint_method\u001b[0m\u001b[0;34m)\u001b[0m\u001b[0;34m\u001b[0m\u001b[0;34m\u001b[0m\u001b[0m\n\u001b[1;32m    344\u001b[0m             \u001b[0;32mif\u001b[0m \u001b[0mmethod\u001b[0m \u001b[0;32mis\u001b[0m \u001b[0;32mnot\u001b[0m \u001b[0;32mNone\u001b[0m\u001b[0;34m:\u001b[0m\u001b[0;34m\u001b[0m\u001b[0;34m\u001b[0m\u001b[0m\n\u001b[0;32m--> 345\u001b[0;31m                 \u001b[0;32mreturn\u001b[0m \u001b[0mmethod\u001b[0m\u001b[0;34m(\u001b[0m\u001b[0;34m)\u001b[0m\u001b[0;34m\u001b[0m\u001b[0;34m\u001b[0m\u001b[0m\n\u001b[0m\u001b[1;32m    346\u001b[0m             \u001b[0;32mreturn\u001b[0m \u001b[0;32mNone\u001b[0m\u001b[0;34m\u001b[0m\u001b[0;34m\u001b[0m\u001b[0m\n\u001b[1;32m    347\u001b[0m         \u001b[0;32melse\u001b[0m\u001b[0;34m:\u001b[0m\u001b[0;34m\u001b[0m\u001b[0;34m\u001b[0m\u001b[0m\n",
            "\u001b[0;32m/usr/local/lib/python3.11/dist-packages/nltk/tree/tree.py\u001b[0m in \u001b[0;36m_repr_svg_\u001b[0;34m(self)\u001b[0m\n\u001b[1;32m    780\u001b[0m \u001b[0;34m\u001b[0m\u001b[0m\n\u001b[1;32m    781\u001b[0m     \u001b[0;32mdef\u001b[0m \u001b[0m_repr_svg_\u001b[0m\u001b[0;34m(\u001b[0m\u001b[0mself\u001b[0m\u001b[0;34m)\u001b[0m\u001b[0;34m:\u001b[0m\u001b[0;34m\u001b[0m\u001b[0;34m\u001b[0m\u001b[0m\n\u001b[0;32m--> 782\u001b[0;31m         \u001b[0;32mfrom\u001b[0m \u001b[0msvgling\u001b[0m \u001b[0;32mimport\u001b[0m \u001b[0mdraw_tree\u001b[0m\u001b[0;34m\u001b[0m\u001b[0;34m\u001b[0m\u001b[0m\n\u001b[0m\u001b[1;32m    783\u001b[0m \u001b[0;34m\u001b[0m\u001b[0m\n\u001b[1;32m    784\u001b[0m         \u001b[0;32mreturn\u001b[0m \u001b[0mdraw_tree\u001b[0m\u001b[0;34m(\u001b[0m\u001b[0mself\u001b[0m\u001b[0;34m)\u001b[0m\u001b[0;34m.\u001b[0m\u001b[0m_repr_svg_\u001b[0m\u001b[0;34m(\u001b[0m\u001b[0;34m)\u001b[0m\u001b[0;34m\u001b[0m\u001b[0;34m\u001b[0m\u001b[0m\n",
            "\u001b[0;31mModuleNotFoundError\u001b[0m: No module named 'svgling'"
          ]
        },
        {
          "output_type": "execute_result",
          "data": {
            "text/plain": [
              "Tree('S', [Tree('NP', [('The', 'DT'), ('big', 'JJ'), ('cat', 'NN')]), ('ate', 'VBD'), Tree('NP', [('the', 'DT'), ('little', 'JJ'), ('mouse', 'NN')]), ('who', 'WP'), ('was', 'VBD'), ('after', 'IN'), Tree('NP', [('fresh', 'JJ'), ('cheese', 'NN')])])"
            ]
          },
          "metadata": {},
          "execution_count": 54
        }
      ]
    },
    {
      "cell_type": "code",
      "source": [],
      "metadata": {
        "id": "c4cepLSRUdmZ"
      },
      "execution_count": null,
      "outputs": []
    }
  ]
}